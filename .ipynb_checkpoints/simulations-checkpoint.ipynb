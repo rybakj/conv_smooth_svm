{
 "cells": [
  {
   "cell_type": "code",
   "execution_count": 1,
   "metadata": {
    "id": "pwVxfcELOZqx"
   },
   "outputs": [],
   "source": [
    "import numpy as np\n",
    "import matplotlib.pyplot as plt\n",
    "import seaborn as sns\n",
    "import pandas as pd\n",
    "\n",
    "import src.models as sm\n",
    "import src.utils as utils"
   ]
  },
  {
   "cell_type": "markdown",
   "metadata": {},
   "source": [
    "# Bahadur remainder"
   ]
  },
  {
   "cell_type": "markdown",
   "metadata": {
    "id": "KP8YYcMaL8Ro"
   },
   "source": [
    "## p/n = 50"
   ]
  },
  {
   "cell_type": "code",
   "execution_count": 2,
   "metadata": {
    "colab": {
     "base_uri": "https://localhost:8080/"
    },
    "id": "JqXIwTxyuz1d",
    "outputId": "e6026e29-8a3e-4d2e-93bd-d82d15507cb4"
   },
   "outputs": [
    {
     "name": "stdout",
     "output_type": "stream",
     "text": [
      "n is 50\n",
      "Iteration: 20/100\n",
      "Iteration: 40/100\n",
      "Iteration: 60/100\n",
      "Iteration: 80/100\n",
      "n is 100\n",
      "Iteration: 20/100\n",
      "Iteration: 40/100\n",
      "Iteration: 60/100\n",
      "Iteration: 80/100\n",
      "n is 200\n",
      "Iteration: 20/100\n",
      "Iteration: 40/100\n",
      "Iteration: 60/100\n",
      "Iteration: 80/100\n",
      "n is 300\n",
      "Iteration: 20/100\n",
      "Iteration: 40/100\n",
      "Iteration: 60/100\n",
      "Iteration: 80/100\n",
      "n is 400\n",
      "Iteration: 20/100\n",
      "Iteration: 40/100\n",
      "Iteration: 60/100\n",
      "Iteration: 80/100\n",
      "n is 500\n",
      "Iteration: 20/100\n",
      "Iteration: 40/100\n",
      "Iteration: 60/100\n",
      "Iteration: 80/100\n"
     ]
    }
   ],
   "source": [
    "n_list = [50, 100, 200, 300, 400, 500]\n",
    "\n",
    "utils.set_seed(4688)\n",
    "\n",
    "Sigma_base = np.eye(1) \n",
    "mu1_base  = np.ones(1)\n",
    "mu2_base  = -np.ones(1) \n",
    "\n",
    "n_iter = 100 #  100\n",
    "\n",
    "\n",
    "results_dict = dict(hsvm_errors = dict(),\n",
    "                      ssvm_errors = dict(),\n",
    "                      svc_errors = dict(),\n",
    "                      hsvm_bah_errors = dict(),\n",
    "                      ssvm_bah_errors = dict())\n",
    "\n",
    "for n in n_list:\n",
    "\n",
    "  p = int(n/50) # np.floor(np.sqrt(n)).astype(int) # np.floor(n/50).astype(int)\n",
    "  c = np.sqrt(p)\n",
    "\n",
    "  adj_constant = sm.calculate_adjustment_constant(c, mu1_base , mu2_base , Sigma_base)\n",
    "\n",
    "  mu1, mu2 = np.ones(p), -np.ones(p)\n",
    "  Sigma = adj_constant*np.eye(p)\n",
    "\n",
    "  print(\"n is\", n)\n",
    "  results_dict = sm.calculate_errors(n, p, mu1, mu2, Sigma, n_iter, results_dict)"
   ]
  },
  {
   "cell_type": "code",
   "execution_count": 9,
   "metadata": {},
   "outputs": [
    {
     "data": {
      "text/plain": [
       "()"
      ]
     },
     "execution_count": 9,
     "metadata": {},
     "output_type": "execute_result"
    }
   ],
   "source": [
    "utils.dump_pickle_file(results_dict, \"bahrem_p_n_ratio.pkl\", dir_path=\"./outputs\")\n",
    "# results_dict = utils.load_pickle_file(\"bahrem_p_n_ratio.pkl\", dir_path=\"./outputs\")"
   ]
  },
  {
   "cell_type": "code",
   "execution_count": 7,
   "metadata": {},
   "outputs": [
    {
     "data": {
      "image/png": "[encoded data removed]",
      "text/plain": [
       "<Figure size 864x252 with 2 Axes>"
      ]
     },
     "metadata": {},
     "output_type": "display_data"
    }
   ],
   "source": [
    "f = utils.plot_bah_error(results_dict, col_names = None, x_axis_label = \"Sample size (n)\", \n",
    "                      y_axis_lim = [0,24])"
   ]
  },
  {
   "cell_type": "code",
   "execution_count": 8,
   "metadata": {},
   "outputs": [],
   "source": [
    "f.savefig(\"./outputs/figures/bah_error_pn_ratio.pdf\", format=\"pdf\", bbox_inches=\"tight\")"
   ]
  },
  {
   "cell_type": "markdown",
   "metadata": {
    "id": "81p3cM0MV4J1"
   },
   "source": [
    "# Type 1 error"
   ]
  },
  {
   "cell_type": "code",
   "execution_count": 4,
   "metadata": {},
   "outputs": [
    {
     "name": "stdout",
     "output_type": "stream",
     "text": [
      "p is 2\n",
      "p is 6\n",
      "p is 12\n",
      "p is 16\n",
      "p is 20\n"
     ]
    }
   ],
   "source": [
    "p_list = [2, 6, 12, 16, 20]\n",
    "# n_list = [200, 250, 350, 400]\n",
    "n_list = [200, 250, 350, 400, 450, 600, 750]\n",
    "n_iter = 100\n",
    "\n",
    "df_hsvm = pd.DataFrame(columns = p_list, index = n_list)\n",
    "df_ssvm = pd.DataFrame(columns = p_list, index = n_list)\n",
    "\n",
    "\n",
    "for p in p_list:\n",
    "    \n",
    "  print(\"p is\", p)\n",
    "  for n in n_list:\n",
    "\n",
    "    p_half = int(p/2)\n",
    "\n",
    "    signif_coef_ssvm, signif_coef_hsvm = list(), list()\n",
    "    \n",
    "    for i in range(n_iter):\n",
    "        \n",
    "        signif_coefs = sm.get_false_positive_ind(p, n)\n",
    "        signif_coef_ssvm.append(signif_coefs[\"ssvm\"])\n",
    "        signif_coef_hsvm.append(signif_coefs[\"hsvm\"])\n",
    "    \n",
    "    # calculate avg false-positive rate across iterations, then select coefs for which the true is 0, take median\n",
    "    # of their f-p ratios\n",
    "    df_ssvm.loc[n, p] = pd.DataFrame(signif_coef_ssvm).mean(axis = 0)[-p_half:].median()\n",
    "    df_hsvm.loc[n, p] = pd.DataFrame(signif_coef_hsvm).mean(axis = 0)[-p_half:].median()\n",
    "\n"
   ]
  },
  {
   "cell_type": "code",
   "execution_count": 10,
   "metadata": {
    "collapsed": true
   },
   "outputs": [
    {
     "ename": "NameError",
     "evalue": "name 'df_hsvm' is not defined",
     "output_type": "error",
     "traceback": [
      "\u001b[1;31m---------------------------------------------------------------------------\u001b[0m",
      "\u001b[1;31mNameError\u001b[0m                                 Traceback (most recent call last)",
      "\u001b[1;32m<ipython-input-10-4b14b5a8bae7>\u001b[0m in \u001b[0;36m<module>\u001b[1;34m\u001b[0m\n\u001b[1;32m----> 1\u001b[1;33m \u001b[0mdf_hsvm\u001b[0m\u001b[1;33m.\u001b[0m\u001b[0mto_csv\u001b[0m\u001b[1;33m(\u001b[0m\u001b[1;34m\"./outputs/type1_error_hsvm.csv\"\u001b[0m\u001b[1;33m)\u001b[0m\u001b[1;33m\u001b[0m\u001b[1;33m\u001b[0m\u001b[0m\n\u001b[0m\u001b[0;32m      2\u001b[0m \u001b[0mdf_ssvm\u001b[0m\u001b[1;33m.\u001b[0m\u001b[0mto_csv\u001b[0m\u001b[1;33m(\u001b[0m\u001b[1;34m\"./outputs/type1_error_ssvm.csv\"\u001b[0m\u001b[1;33m)\u001b[0m\u001b[1;33m\u001b[0m\u001b[1;33m\u001b[0m\u001b[0m\n",
      "\u001b[1;31mNameError\u001b[0m: name 'df_hsvm' is not defined"
     ]
    }
   ],
   "source": [
    "df_hsvm.to_csv(\"./outputs/type1_error_hsvm.csv\")\n",
    "df_ssvm.to_csv(\"./outputs/type1_error_ssvm.csv\")"
   ]
  },
  {
   "cell_type": "code",
   "execution_count": 11,
   "metadata": {},
   "outputs": [],
   "source": [
    "df_hsvm = pd.read_csv(\"./outputs/type1_error_hsvm.csv\", index_col = 0)\n",
    "df_ssvm = pd.read_csv(\"./outputs/type1_error_ssvm.csv\", index_col = 0)"
   ]
  },
  {
   "cell_type": "code",
   "execution_count": 12,
   "metadata": {},
   "outputs": [
    {
     "data": {
      "text/plain": [
       "Text(76.125, 0.5, 'Sample size (n)')"
      ]
     },
     "execution_count": 12,
     "metadata": {},
     "output_type": "execute_result"
    },
    {
     "data": {
      "image/png": "[encoded data removed]",
      "text/plain": [
       "<Figure size 864x288 with 2 Axes>"
      ]
     },
     "metadata": {},
     "output_type": "display_data"
    }
   ],
   "source": [
    "fig, ax = plt.subplots(1,2, figsize = (12, 4))\n",
    "sns.heatmap(data = df_hsvm.sort_index(ascending = False).iloc[:,:].astype(float), vmin = 0, vmax = 0.25, center = 0.1, \n",
    "            cmap=sns.color_palette(\"coolwarm\", as_cmap=True), \n",
    "            ax = ax[0], annot = True, fmt = '0.0%', cbar = False, linewidths = 0.01)\n",
    "\n",
    "ax[0].set_yticklabels(ax[0].get_yticklabels(),rotation = 0)\n",
    "sns.heatmap(data = df_ssvm.sort_index(ascending = False).iloc[:,:].astype(float), vmin = 0, vmax = 0.25, center = 0.1,\n",
    "            cmap=sns.color_palette(\"coolwarm\", as_cmap=True), \n",
    "            ax = ax[1], annot = True, fmt = '0.0%', cbar = False, linewidths = 0.01)\n",
    "ax[1].set_yticklabels(ax[1].get_yticklabels(),rotation = 0);\n",
    "\n",
    "ax[0].set_xlabel(\"Number of features (p)\")\n",
    "ax[1].set_xlabel(\"Number of features (p)\")\n",
    "ax[0].set_ylabel(\"Sample size (n)\")\n"
   ]
  },
  {
   "cell_type": "code",
   "execution_count": 13,
   "metadata": {},
   "outputs": [],
   "source": [
    "fig.savefig(\"./outputs/figures/Type1errors.pdf\", format=\"pdf\", bbox_inches=\"tight\")"
   ]
  },
  {
   "cell_type": "code",
   "execution_count": null,
   "metadata": {},
   "outputs": [],
   "source": []
  }
 ],
 "metadata": {
  "colab": {
   "collapsed_sections": [
    "TdzhraXf6Ghy",
    "KP8YYcMaL8Ro"
   ],
   "machine_shape": "hm",
   "name": "smooth_svm_oop.ipynb",
   "provenance": []
  },
  "kernelspec": {
   "display_name": "Python 3",
   "language": "python",
   "name": "python3"
  },
  "language_info": {
   "codemirror_mode": {
    "name": "ipython",
    "version": 3
   },
   "file_extension": ".py",
   "mimetype": "text/x-python",
   "name": "python",
   "nbconvert_exporter": "python",
   "pygments_lexer": "ipython3",
   "version": "3.8.5"
  },
  "toc": {
   "base_numbering": 1,
   "nav_menu": {},
   "number_sections": true,
   "sideBar": true,
   "skip_h1_title": false,
   "title_cell": "Table of Contents",
   "title_sidebar": "Contents",
   "toc_cell": false,
   "toc_position": {},
   "toc_section_display": true,
   "toc_window_display": false
  },
  "varInspector": {
   "cols": {
    "lenName": 16,
    "lenType": 16,
    "lenVar": 40
   },
   "kernels_config": {
    "python": {
     "delete_cmd_postfix": "",
     "delete_cmd_prefix": "del ",
     "library": "var_list.py",
     "varRefreshCmd": "print(var_dic_list())"
    },
    "r": {
     "delete_cmd_postfix": ") ",
     "delete_cmd_prefix": "rm(",
     "library": "var_list.r",
     "varRefreshCmd": "cat(var_dic_list()) "
    }
   },
   "types_to_exclude": [
    "module",
    "function",
    "builtin_function_or_method",
    "instance",
    "_Feature"
   ],
   "window_display": false
  }
 },
 "nbformat": 4,
 "nbformat_minor": 1
}
